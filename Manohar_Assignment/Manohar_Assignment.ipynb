{
 "cells": [
  {
   "cell_type": "code",
   "execution_count": 1,
   "id": "3e00d52e",
   "metadata": {},
   "outputs": [],
   "source": [
    "import pandas as pd\n",
    "import random\n",
    "import uuid\n",
    "import time\n",
    "\n",
    "def generate_fake_transaction_data(n=5000):\n",
    "    data = []\n",
    "    for _ in range(n):\n",
    "        transaction_id = str(uuid.uuid4())\n",
    "        sender = \"0x\" + ''.join(random.choices('abcdef0123456789', k=40))\n",
    "        receiver = \"0x\" + ''.join(random.choices('abcdef0123456789', k=40))\n",
    "        amount = round(random.uniform(0.001, 100), 4)\n",
    "        timestamp = int(time.time()) - random.randint(1, 31536000)\n",
    "        gas_fee = round(random.uniform(0.0001, 0.1), 6)\n",
    "        transaction_count = random.randint(1, 500)\n",
    "        wallet_age = random.randint(1, 365)\n",
    "        \n",
    "        # 10% Fraudulent Transactions\n",
    "        is_fraud = 1 if (gas_fee > 0.05 and transaction_count > 300) or (amount > 80) else 0\n",
    "        \n",
    "        data.append([transaction_id, sender, receiver, amount, timestamp, gas_fee, transaction_count, wallet_age, is_fraud])\n",
    "    \n",
    "    df = pd.DataFrame(data, columns=[\"transaction_id\", \"sender_address\", \"receiver_address\", \"amount\", \"timestamp\", \"gas_fee\", \n",
    "                                     \"transaction_count\", \"wallet_age\", \"is_fraud\"])\n",
    "    df.to_csv(\"synthetic_transactions.csv\", index=False)\n",
    "\n",
    "# Generate and save the dataset\n",
    "generate_fake_transaction_data()\n"
   ]
  },
  {
   "cell_type": "code",
   "execution_count": 2,
   "id": "9de22bbc",
   "metadata": {},
   "outputs": [
    {
     "name": "stdout",
     "output_type": "stream",
     "text": [
      "                         transaction_id  \\\n",
      "0  468cdbfc-7656-4ba1-b19a-63c48641742d   \n",
      "1  54f0ad62-1504-4492-9b9b-a52fb755deb9   \n",
      "2  2a863a31-e577-416a-8403-0abd52e2207e   \n",
      "3  85ca3850-d2b9-4a3c-aec9-2085ec97e9e4   \n",
      "4  13b33c3b-88c5-4bfd-ab3a-71c548255738   \n",
      "\n",
      "                               sender_address  \\\n",
      "0  0xacf553a6c48626b8352391171f35474c1d5fa884   \n",
      "1  0x890bd96226890bc0fc02af0c5199550d4bf74a5f   \n",
      "2  0x36440a7ac59ea20733dcf64fbd114cd2e5884bc2   \n",
      "3  0x07c98f452383a76cf60e2813567885e0c6fda4b1   \n",
      "4  0xca5818a381cac32c3106c62393fa73c90a002b1e   \n",
      "\n",
      "                             receiver_address   amount   timestamp   gas_fee  \\\n",
      "0  0xd5ad3554f84e5b4763be790c92044914ec6bc9fb  36.0507  1716224983  0.078713   \n",
      "1  0x84bae551539f7c59fcc7974f2ee38b671391c07c   8.4255  1727036627  0.067098   \n",
      "2  0x7249fb7c701ee8db060bc37f062bc1dbc7618f6a  71.0799  1724626429  0.083439   \n",
      "3  0x20952be50ca832907ffc048fe731d9a7e6e62d3b  69.0019  1734362615  0.068309   \n",
      "4  0x5fa0ced60a9bc916e6d7b07edfcf2665de888d0d   6.4898  1731246782  0.094111   \n",
      "\n",
      "   transaction_count  wallet_age  is_fraud  \n",
      "0                186          81         0  \n",
      "1                148         322         0  \n",
      "2                 84         322         0  \n",
      "3                351         269         1  \n",
      "4                431         141         1  \n"
     ]
    }
   ],
   "source": [
    "import pandas as pd\n",
    "\n",
    "# Load the dataset\n",
    "df = pd.read_csv(\"synthetic_transactions.csv\")\n",
    "\n",
    "# Display the first 5 rows\n",
    "print(df.head())\n"
   ]
  },
  {
   "cell_type": "code",
   "execution_count": 3,
   "id": "c0387290",
   "metadata": {},
   "outputs": [
    {
     "name": "stdout",
     "output_type": "stream",
     "text": [
      "Precision: 0.5221, Recall: 0.1630, F1-score: 0.2484\n"
     ]
    }
   ],
   "source": [
    "from sklearn.ensemble import IsolationForest\n",
    "from sklearn.model_selection import train_test_split\n",
    "from sklearn.metrics import precision_score, recall_score, f1_score\n",
    "\n",
    "# Select features and target\n",
    "features = [\"amount\", \"gas_fee\", \"transaction_count\", \"wallet_age\"]\n",
    "X = df[features]\n",
    "y = df[\"is_fraud\"]\n",
    "\n",
    "# Split dataset into training and testing\n",
    "X_train, X_test, y_train, y_test = train_test_split(X, y, test_size=0.2, random_state=42)\n",
    "\n",
    "# Train Isolation Forest Model\n",
    "model = IsolationForest(n_estimators=100, contamination=0.1, random_state=42)\n",
    "model.fit(X_train)\n",
    "\n",
    "# Predict on test set\n",
    "y_pred = model.predict(X_test)\n",
    "\n",
    "# Convert predictions (-1 for anomalies, 1 for normal) to 0 and 1\n",
    "y_pred = [1 if pred == -1 else 0 for pred in y_pred]\n",
    "\n",
    "# Evaluate the model\n",
    "precision = precision_score(y_test, y_pred)\n",
    "recall = recall_score(y_test, y_pred)\n",
    "f1 = f1_score(y_test, y_pred)\n",
    "\n",
    "print(f\"Precision: {precision:.4f}, Recall: {recall:.4f}, F1-score: {f1:.4f}\")"
   ]
  },
  {
   "cell_type": "code",
   "execution_count": null,
   "id": "f7bdab34",
   "metadata": {},
   "outputs": [],
   "source": []
  },
  {
   "cell_type": "code",
   "execution_count": null,
   "id": "9150ec5e",
   "metadata": {},
   "outputs": [],
   "source": []
  },
  {
   "cell_type": "code",
   "execution_count": null,
   "id": "43c2c6bd",
   "metadata": {},
   "outputs": [],
   "source": []
  },
  {
   "cell_type": "code",
   "execution_count": null,
   "id": "ec743d59",
   "metadata": {},
   "outputs": [],
   "source": []
  }
 ],
 "metadata": {
  "kernelspec": {
   "display_name": "Python 3.13 (Jupyter)",
   "language": "python",
   "name": "python3.13"
  },
  "language_info": {
   "codemirror_mode": {
    "name": "ipython",
    "version": 3
   },
   "file_extension": ".py",
   "mimetype": "text/x-python",
   "name": "python",
   "nbconvert_exporter": "python",
   "pygments_lexer": "ipython3",
   "version": "3.13.2"
  }
 },
 "nbformat": 4,
 "nbformat_minor": 5
}
